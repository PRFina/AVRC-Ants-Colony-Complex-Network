{
 "cells": [
  {
   "cell_type": "markdown",
   "source": "## Initialization Notebook\nThis is your initialization notebook.\n\n**What's this for?**\n\nYou can put custom code you want us to run every time we setup your environment in here. \n\n**Awesome! Anything I should not put in here?**\n\nPlease don't install `jupyter` or `jedi` packages, they would break your Deepnote environment. Also, no need to put `!pip install`s here, we already save those automatically!\n\n**I want to learn more!**\n\nGreat! Just [head over to our docs](https://docs.deepnote.com/environment/custom-initialization).",
   "metadata": {
    "tags": [],
    "cell_id": "00000-498edd2d-3a6e-462c-bdf8-4c4791d3b696",
    "deepnote_cell_type": "markdown"
   }
  },
  {
   "cell_type": "code",
   "metadata": {
    "tags": [],
    "cell_id": "00001-8ac4f3aa-12a5-4310-82cc-3f5c95b95111",
    "deepnote_to_be_reexecuted": false,
    "source_hash": "60b37886",
    "execution_start": 1631702964097,
    "execution_millis": 18997,
    "deepnote_cell_type": "code"
   },
   "source": "%%bash\n# If your project has a 'requirements.txt' file, we'll install it here apart from blacklisted packages that interfere with Deepnote (see above).\nif test -f requirements.txt\n  then\n    sed -i '/jedi/d;/jupyter/d;' ./requirements.txt\n    pip install -r ./requirements.txt\n  else echo \"There's no requirements.txt, so nothing to install. This is the case with most projects.\"\nfi",
   "outputs": [
    {
     "name": "stdout",
     "text": "Collecting networkx==2.6.2\n  Downloading networkx-2.6.2-py3-none-any.whl (1.9 MB)\nCollecting netgraph==4.0.4\n  Downloading netgraph-4.0.4.tar.gz (55 kB)\nCollecting python-louvain==0.15\n  Downloading python-louvain-0.15.tar.gz (204 kB)\nCollecting palettable==3.3.0\n  Downloading palettable-3.3.0-py2.py3-none-any.whl (111 kB)\nCollecting imageio==2.9.0\n  Downloading imageio-2.9.0-py3-none-any.whl (3.3 MB)\nCollecting fitter\n  Downloading fitter-1.4.0.tar.gz (27 kB)\nRequirement already satisfied: numpy in /shared-libs/python3.7/py/lib/python3.7/site-packages (from -r ./requirements.txt (line 7)) (1.19.5)\nRequirement already satisfied: scipy in /shared-libs/python3.7/py/lib/python3.7/site-packages (from -r ./requirements.txt (line 8)) (1.7.1)\nRequirement already satisfied: matplotlib in /shared-libs/python3.7/py/lib/python3.7/site-packages (from -r ./requirements.txt (line 9)) (3.4.3)\nCollecting rectangle-packer\n  Downloading rectangle_packer-2.0.1-cp37-cp37m-manylinux2010_x86_64.whl (246 kB)\nCollecting grandalf\n  Downloading grandalf-0.7-py3-none-any.whl (41 kB)\nRequirement already satisfied: pillow in /shared-libs/python3.7/py/lib/python3.7/site-packages (from imageio==2.9.0->-r ./requirements.txt (line 5)) (8.3.2)\nCollecting easydev\n  Downloading easydev-0.12.0.tar.gz (47 kB)\nRequirement already satisfied: pandas in /shared-libs/python3.7/py/lib/python3.7/site-packages (from fitter->-r ./requirements.txt (line 6)) (1.2.5)\nRequirement already satisfied: click in /shared-libs/python3.7/py/lib/python3.7/site-packages (from fitter->-r ./requirements.txt (line 6)) (7.1.2)\nRequirement already satisfied: joblib in /shared-libs/python3.7/py/lib/python3.7/site-packages (from fitter->-r ./requirements.txt (line 6)) (1.0.1)\nRequirement already satisfied: pyparsing>=2.2.1 in /shared-libs/python3.7/py-core/lib/python3.7/site-packages (from matplotlib->-r ./requirements.txt (line 9)) (2.4.7)\nRequirement already satisfied: python-dateutil>=2.7 in /shared-libs/python3.7/py-core/lib/python3.7/site-packages (from matplotlib->-r ./requirements.txt (line 9)) (2.8.2)\nRequirement already satisfied: kiwisolver>=1.0.1 in /shared-libs/python3.7/py/lib/python3.7/site-packages (from matplotlib->-r ./requirements.txt (line 9)) (1.3.2)\nRequirement already satisfied: cycler>=0.10 in /shared-libs/python3.7/py/lib/python3.7/site-packages (from matplotlib->-r ./requirements.txt (line 9)) (0.10.0)\nRequirement already satisfied: six in /shared-libs/python3.7/py-core/lib/python3.7/site-packages (from cycler>=0.10->matplotlib->-r ./requirements.txt (line 9)) (1.16.0)\nCollecting colorama\n  Downloading colorama-0.4.4-py2.py3-none-any.whl (16 kB)\nRequirement already satisfied: pexpect in /shared-libs/python3.7/py-core/lib/python3.7/site-packages (from easydev->fitter->-r ./requirements.txt (line 6)) (4.8.0)\nCollecting colorlog\n  Downloading colorlog-6.4.1-py2.py3-none-any.whl (11 kB)\nRequirement already satisfied: pytz>=2017.3 in /shared-libs/python3.7/py/lib/python3.7/site-packages (from pandas->fitter->-r ./requirements.txt (line 6)) (2021.1)\nRequirement already satisfied: ptyprocess>=0.5 in /shared-libs/python3.7/py-core/lib/python3.7/site-packages (from pexpect->easydev->fitter->-r ./requirements.txt (line 6)) (0.7.0)\nBuilding wheels for collected packages: netgraph, python-louvain, fitter, easydev\n  Building wheel for netgraph (setup.py): started\n  Building wheel for netgraph (setup.py): finished with status 'done'\n  Created wheel for netgraph: filename=netgraph-4.0.4-py3-none-any.whl size=59433 sha256=31104de562acc3c4d26c6d4e764f883db02d31344268d3e04a0a0f3e1cb77bfa\n  Stored in directory: /root/.cache/pip/wheels/01/aa/ae/ac412276d7bba31400588a6eeafaa12be5bd6843298ab535c3\n  Building wheel for python-louvain (setup.py): started\n  Building wheel for python-louvain (setup.py): finished with status 'done'\n  Created wheel for python-louvain: filename=python_louvain-0.15-py3-none-any.whl size=9413 sha256=b60c9a4d5e6d59fc12286cd564aafe8fd421e5ccee27bc76519f63cb5d5e4edb\n  Stored in directory: /root/.cache/pip/wheels/c7/4c/ef/427db8777620f7fa12a6404f1527a39536a812f46a4d1044d3\n  Building wheel for fitter (setup.py): started\n  Building wheel for fitter (setup.py): finished with status 'done'\n  Created wheel for fitter: filename=fitter-1.4.0-py3-none-any.whl size=25025 sha256=6679308ad0ee731de97114bb05c2089520474cfbc0d50b1c78109391b8cda01c\n  Stored in directory: /root/.cache/pip/wheels/e1/98/16/e5263962f94fbfaad79902aa94652516caccc1f1d51509e853\n  Building wheel for easydev (setup.py): started\n  Building wheel for easydev (setup.py): finished with status 'done'\n  Created wheel for easydev: filename=easydev-0.12.0-py3-none-any.whl size=64232 sha256=6710816efaec5e094ce695ff1da5574e5bab7224f4abc0f48003619d710e1085\n  Stored in directory: /root/.cache/pip/wheels/82/ab/83/fdfc4017ea44a585b6754752cc5f63f2d0d63fcc1317e7174b\nSuccessfully built netgraph python-louvain fitter easydev\nInstalling collected packages: colorlog, colorama, rectangle-packer, networkx, grandalf, easydev, python-louvain, palettable, netgraph, imageio, fitter\nSuccessfully installed colorama-0.4.4 colorlog-6.4.1 easydev-0.12.0 fitter-1.4.0 grandalf-0.7 imageio-2.9.0 netgraph-4.0.4 networkx-2.6.2 palettable-3.3.0 python-louvain-0.15 rectangle-packer-2.0.1\nWARNING: You are using pip version 21.2.3; however, version 21.2.4 is available.\nYou should consider upgrading via the '/root/venv/bin/python -m pip install --upgrade pip' command.\n",
     "output_type": "stream"
    }
   ],
   "execution_count": null
  },
  {
   "cell_type": "markdown",
   "source": "<a style='text-decoration:none;line-height:16px;display:flex;color:#5B5B62;padding:10px;justify-content:end;' href='https://deepnote.com?utm_source=created-in-deepnote-cell&projectId=cb57dfcf-e1ca-445d-8627-3e6f94f4b33f' target=\"_blank\">\n<img alt='Created in deepnote.com' style='display:inline;max-height:16px;margin:0px;margin-right:7.5px;' src='data:image/svg+xml;base64,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' > </img>\nCreated in <span style='font-weight:600;margin-left:4px;'>Deepnote</span></a>",
   "metadata": {
    "tags": [],
    "created_in_deepnote_cell": true,
    "deepnote_cell_type": "markdown"
   }
  }
 ],
 "nbformat": 4,
 "nbformat_minor": 2,
 "metadata": {
  "orig_nbformat": 2,
  "deepnote": {
   "is_reactive": false
  },
  "deepnote_notebook_id": "e0861394-9cc8-4233-bb29-060053d3e9d1",
  "deepnote_execution_queue": []
 }
}